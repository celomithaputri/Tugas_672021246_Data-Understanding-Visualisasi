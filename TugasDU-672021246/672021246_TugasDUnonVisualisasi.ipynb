{
  "nbformat": 4,
  "nbformat_minor": 0,
  "metadata": {
    "colab": {
      "provenance": []
    },
    "kernelspec": {
      "name": "python3",
      "display_name": "Python 3"
    },
    "language_info": {
      "name": "python"
    }
  },
  "cells": [
    {
      "cell_type": "code",
      "execution_count": 1,
      "metadata": {
        "id": "o_W2btf2cbBZ"
      },
      "outputs": [],
      "source": [
        "#Import pandas dan numpy terlebih dahulu\n",
        "import pandas as pd\n",
        "import numpy as np"
      ]
    },
    {
      "cell_type": "code",
      "source": [
        "!unzip CCS-master"
      ],
      "metadata": {
        "colab": {
          "base_uri": "https://localhost:8080/"
        },
        "id": "vURSJ6d2c36l",
        "outputId": "8acb6626-50b2-4f8f-d449-135e1f957117"
      },
      "execution_count": 2,
      "outputs": [
        {
          "output_type": "stream",
          "name": "stdout",
          "text": [
            "Archive:  CCS-master.zip\n",
            "7fed3ec99524ebd276c16678586bcaa36883b98a\n",
            "   creating: CCS-master/\n",
            "  inflating: CCS-master/README.md    \n",
            "  inflating: CCS-master/Tasks.md     \n",
            "   creating: CCS-master/sample data/\n",
            "  inflating: CCS-master/sample data/customers.csv  \n",
            "  inflating: CCS-master/sample data/gasstations.csv  \n",
            "  inflating: CCS-master/sample data/products.csv  \n",
            "  inflating: CCS-master/sample data/sample.csv  \n"
          ]
        }
      ]
    },
    {
      "cell_type": "code",
      "source": [
        "# File csv\n",
        "path = \"CCS-master/sample data/sample.csv\"\n",
        "#Read file csv kedalam pandas DataFrame\n",
        "df = pd.read_csv(path)"
      ],
      "metadata": {
        "id": "cpRxv-9Yc-YE"
      },
      "execution_count": 3,
      "outputs": []
    },
    {
      "cell_type": "code",
      "source": [
        "#Mengelompokkan transaksi berdasarkan ID pelanggan\n",
        "customer_transactions = df.groupby('CustomerID')['Price'].sum().reset_index()\n",
        "#Sorting transaksi pelanggan berdasarkan total harga dalam urutan ascending\n",
        "customer_transactions = customer_transactions.sort_values('Price', ascending=False)\n",
        "#Memilih 5 pelanggan teratas berdasarkan total jumlah transaksi\n",
        "top_5_customers = customer_transactions.head(5)\n",
        "#Selanjutnya mencetak 5 pelanggan teratas\n",
        "print(top_5_customers)"
      ],
      "metadata": {
        "colab": {
          "base_uri": "https://localhost:8080/"
        },
        "id": "8zg0fBo1dCcT",
        "outputId": "65c0ce91-4cb9-4c29-e40a-fa676b75f275"
      },
      "execution_count": 4,
      "outputs": [
        {
          "output_type": "stream",
          "name": "stdout",
          "text": [
            "    CustomerID      Price\n",
            "8         6769  5014.7790\n",
            "30       17693  4802.9520\n",
            "26       15064  4287.0520\n",
            "10        7196  3987.8608\n",
            "27       15470  3320.1630\n"
          ]
        }
      ]
    },
    {
      "cell_type": "code",
      "source": [
        "#Mengelompokkan transaksi berdasarkan gas station\n",
        "gas_station_transactions = df.groupby('GasStationID')['Price'].sum().reset_index()\n",
        "#Sorting transaksi gas station berdasarkan total harga dalam urutan ascending\n",
        "gas_station_transactions = gas_station_transactions.sort_values('Price', ascending=False)\n",
        "#Memilih 5 data gas station teratas berdasarkan total jumlah transaksi\n",
        "top_5_gas_station = gas_station_transactions.head(5)\n",
        "#Selanjutnya mencetak 5 gas station teratas\n",
        "print(top_5_gas_station)"
      ],
      "metadata": {
        "colab": {
          "base_uri": "https://localhost:8080/"
        },
        "id": "PTDjacTqdGVU",
        "outputId": "07ecd337-d2d3-46f9-82d8-ba9863515f05"
      },
      "execution_count": 5,
      "outputs": [
        {
          "output_type": "stream",
          "name": "stdout",
          "text": [
            "    GasStationID     Price\n",
            "43          3617  5168.471\n",
            "12           405  5014.779\n",
            "48          3671  4802.952\n",
            "21           804  4379.914\n",
            "28          2030  4287.052\n"
          ]
        }
      ]
    },
    {
      "cell_type": "code",
      "source": [
        "#Mengelompokkan transaksi berdasarkan tanggal dan waktu\n",
        "most_common_time = df.groupby(['Date', 'Time']).size().idxmax()\n",
        "\n",
        "#Mencetak waktu terbaik (hari dan jam) dimana paling bnyk user gas station melakukan transaksi\n",
        "print(\"Best Time for Gas Station User:\")\n",
        "print(\"Date:\", most_common_time[0])\n",
        "print(\"Time:\", most_common_time[1])"
      ],
      "metadata": {
        "colab": {
          "base_uri": "https://localhost:8080/"
        },
        "id": "b3uTIOGFdLkZ",
        "outputId": "e805bc79-3ac5-4404-e844-358913c8bfb9"
      },
      "execution_count": 6,
      "outputs": [
        {
          "output_type": "stream",
          "name": "stdout",
          "text": [
            "Best Time for Gas Station User:\n",
            "Date: 2012-01-01\n",
            "Time: 04:40:00\n"
          ]
        }
      ]
    },
    {
      "cell_type": "markdown",
      "source": [
        "**Analisis data pelanggan ini digunakan untuk memahami preferensi, kebutuhan, serta perilaku pembelian pelanggan. Dengan data ini, bisnis dapat mengidentifikasi tren, menyesuaikan produk atau layanan, meningkatkan loyalitas pelanggan, dan meningkatkan penjualan. Data juga membantu pemimpin membuat keputusan yang lebih baik, menghindari strategi yang tidak efektif, dan mengoptimalkan operasional bisnis. Selain itu, data pelanggan juga memungkinkan pengembangan dalam pemasaran yang lebih tertarget, yang membantu bisnis memenuhi harapan pelanggan dan meningkatkan loyalitas merek serta pertumbuhan bisnis.**\n",
        "      \n",
        "                  *`SEKIAN & TERIMAKASIH`*"
      ],
      "metadata": {
        "id": "Ig_sfOomdVhd"
      }
    }
  ]
}