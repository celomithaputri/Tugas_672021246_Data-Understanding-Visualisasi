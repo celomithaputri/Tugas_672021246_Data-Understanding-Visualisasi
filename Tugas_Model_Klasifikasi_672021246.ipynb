{
  "nbformat": 4,
  "nbformat_minor": 0,
  "metadata": {
    "colab": {
      "provenance": []
    },
    "kernelspec": {
      "name": "python3",
      "display_name": "Python 3"
    },
    "language_info": {
      "name": "python"
    }
  },
  "cells": [
    {
      "cell_type": "markdown",
      "source": [
        "# Import Dataset Iris"
      ],
      "metadata": {
        "id": "7R7hpiG8xu6w"
      }
    },
    {
      "cell_type": "code",
      "execution_count": 484,
      "metadata": {
        "id": "HMeg8QgCtRgr"
      },
      "outputs": [],
      "source": [
        "from sklearn import datasets\n",
        "iris = datasets.load_iris()\n",
        "x = iris.data\n",
        "y = iris.target"
      ]
    },
    {
      "cell_type": "markdown",
      "source": [
        "# Pembagian Dataset"
      ],
      "metadata": {
        "id": "ZDvm6Ja318bI"
      }
    },
    {
      "cell_type": "code",
      "source": [
        "from sklearn.model_selection import train_test_split\n",
        "#dataset di bagi menjadi data latih 70% dan data uji 30%\n",
        "x_train, x_test, y_train, y_test = train_test_split(x, y, train_size = 0.7)\n",
        "print(\"Banyaknya data X yang di training:\", len(x_train))\n",
        "print(\"Banyaknya data X yang di testing:\", len(x_test))"
      ],
      "metadata": {
        "colab": {
          "base_uri": "https://localhost:8080/"
        },
        "id": "fQtAZhJWx20p",
        "outputId": "58575e91-e062-435b-da34-a7ab01479c7d"
      },
      "execution_count": 485,
      "outputs": [
        {
          "output_type": "stream",
          "name": "stdout",
          "text": [
            "Banyaknya data X yang di training: 105\n",
            "Banyaknya data X yang di testing: 45\n"
          ]
        }
      ]
    },
    {
      "cell_type": "code",
      "source": [
        "print(x[:10])"
      ],
      "metadata": {
        "colab": {
          "base_uri": "https://localhost:8080/"
        },
        "id": "PVxdVKGPyOSh",
        "outputId": "4336fe2d-b78a-47a9-ad1a-f38d8b172c19"
      },
      "execution_count": 486,
      "outputs": [
        {
          "output_type": "stream",
          "name": "stdout",
          "text": [
            "[[5.1 3.5 1.4 0.2]\n",
            " [4.9 3.  1.4 0.2]\n",
            " [4.7 3.2 1.3 0.2]\n",
            " [4.6 3.1 1.5 0.2]\n",
            " [5.  3.6 1.4 0.2]\n",
            " [5.4 3.9 1.7 0.4]\n",
            " [4.6 3.4 1.4 0.3]\n",
            " [5.  3.4 1.5 0.2]\n",
            " [4.4 2.9 1.4 0.2]\n",
            " [4.9 3.1 1.5 0.1]]\n"
          ]
        }
      ]
    },
    {
      "cell_type": "code",
      "source": [
        "print(y[:10])"
      ],
      "metadata": {
        "colab": {
          "base_uri": "https://localhost:8080/"
        },
        "id": "YpW3JUuxyUg5",
        "outputId": "59032ac9-4cc5-4ceb-c4b0-909a24af0285"
      },
      "execution_count": 487,
      "outputs": [
        {
          "output_type": "stream",
          "name": "stdout",
          "text": [
            "[0 0 0 0 0 0 0 0 0 0]\n"
          ]
        }
      ]
    },
    {
      "cell_type": "markdown",
      "source": [
        "# Metode Klasifikasi"
      ],
      "metadata": {
        "id": "37mxxfB-26um"
      }
    },
    {
      "cell_type": "markdown",
      "source": [
        "# MODEL KNN CLASSIFIER"
      ],
      "metadata": {
        "id": "ghzWF2fu3uGO"
      }
    },
    {
      "cell_type": "code",
      "source": [
        "from sklearn.neighbors import KNeighborsClassifier\n",
        "from sklearn import metrics\n",
        "\n",
        "knn = KNeighborsClassifier()\n",
        "knn.fit(x_train, y_train)\n",
        "y_pred = knn.predict(x_test)\n",
        "score = metrics.accuracy_score(y_test, y_pred)\n",
        "\n",
        "print(\"Akurasi dengan menggunakan Nearst Neighbor: \", score)"
      ],
      "metadata": {
        "colab": {
          "base_uri": "https://localhost:8080/"
        },
        "id": "5n95pzWf1Jgh",
        "outputId": "ec7f85ad-939c-4f29-cf77-fc41e3b16e05"
      },
      "execution_count": 488,
      "outputs": [
        {
          "output_type": "stream",
          "name": "stdout",
          "text": [
            "Akurasi dengan menggunakan Nearst Neighbor:  0.9555555555555556\n"
          ]
        }
      ]
    },
    {
      "cell_type": "markdown",
      "source": [
        "#DECISION TREE CLASSIFIER"
      ],
      "metadata": {
        "id": "tajLgyFa5XN2"
      }
    },
    {
      "cell_type": "code",
      "source": [
        "from sklearn.tree import DecisionTreeClassifier\n",
        "from sklearn import metrics\n",
        "\n",
        "dt = DecisionTreeClassifier(\n",
        "    max_depth = None,\n",
        "    min_samples_split = 2\n",
        ")\n",
        "\n",
        "dt.fit(x_train, y_train)\n",
        "y_pred = dt.predict(x_test)\n",
        "score = metrics.accuracy_score(y_test, y_pred)\n",
        "print(\"Akurasi dengan menggunakan Decision Tree: \", score)"
      ],
      "metadata": {
        "colab": {
          "base_uri": "https://localhost:8080/"
        },
        "id": "jmQrpIWf5d1e",
        "outputId": "5c8903b3-1f4e-4fb1-bdee-be8eb706f996"
      },
      "execution_count": 489,
      "outputs": [
        {
          "output_type": "stream",
          "name": "stdout",
          "text": [
            "Akurasi dengan menggunakan Decision Tree:  0.9555555555555556\n"
          ]
        }
      ]
    },
    {
      "cell_type": "markdown",
      "source": [
        "# NAIVE BAYES CLASSIFIER"
      ],
      "metadata": {
        "id": "TWKpjpNb655w"
      }
    },
    {
      "cell_type": "code",
      "source": [
        "from sklearn import naive_bayes\n",
        "from sklearn import metrics\n",
        "\n",
        "nb = naive_bayes.BernoulliNB()\n",
        "\n",
        "nb.fit(x_train, y_train)\n",
        "y_pred = nb.predict(x_test)\n",
        "score = metrics.accuracy_score(y_test, y_pred)\n",
        "print(\"Akurasi dengan menggunakan Naive Bayes: \", score)"
      ],
      "metadata": {
        "colab": {
          "base_uri": "https://localhost:8080/"
        },
        "id": "HR2USYRJ7L10",
        "outputId": "cdfda241-9e11-4232-c4d9-4a5afdc93eee"
      },
      "execution_count": 490,
      "outputs": [
        {
          "output_type": "stream",
          "name": "stdout",
          "text": [
            "Akurasi dengan menggunakan Naive Bayes:  0.24444444444444444\n"
          ]
        }
      ]
    },
    {
      "cell_type": "markdown",
      "source": [
        "#MODEL SVM"
      ],
      "metadata": {
        "id": "dRQyrI1j8HvO"
      }
    },
    {
      "cell_type": "code",
      "source": [
        "#import support vector machine classifier dari sklearn\n",
        "from sklearn.svm import SVC\n",
        "\n",
        "svmLinear = SVC(\n",
        "    kernel = 'linear',\n",
        "    C = 1\n",
        ")\n",
        "\n",
        "svmPoly = SVC(\n",
        "    kernel = 'poly',\n",
        "    C = 1,\n",
        "    gamma = 0.01,\n",
        "    degree = 2\n",
        ")\n",
        "\n",
        "svmRBF = SVC(\n",
        "    kernel = 'rbf',\n",
        "    C = 1,\n",
        "    gamma = 0.01\n",
        ")"
      ],
      "metadata": {
        "id": "kMEsYsST8Jq2"
      },
      "execution_count": 491,
      "outputs": []
    },
    {
      "cell_type": "markdown",
      "source": [
        "\n",
        "\n",
        "**1.**   **Linear**\n",
        "\n",
        "\n"
      ],
      "metadata": {
        "id": "A2PJXcBB5Tj6"
      }
    },
    {
      "cell_type": "code",
      "source": [
        "from sklearn.svm import SVC\n",
        "from sklearn import metrics\n",
        "\n",
        "svm = SVC(\n",
        "    kernel = 'linear',\n",
        "    C = 1,\n",
        "    gamma = 0.01\n",
        ")\n",
        "\n",
        "svm.fit(x_train, y_train)\n",
        "y_pred = svm.predict(x_test)\n",
        "score = metrics.accuracy_score(y_test, y_pred)\n",
        "print(\"Akurasi dengan menggunakan Support Vector Machine: \", score)"
      ],
      "metadata": {
        "colab": {
          "base_uri": "https://localhost:8080/"
        },
        "id": "0Xk_xQJb9NbO",
        "outputId": "654e53be-3f8c-4171-8006-95d8637aec00"
      },
      "execution_count": 492,
      "outputs": [
        {
          "output_type": "stream",
          "name": "stdout",
          "text": [
            "Akurasi dengan menggunakan Support Vector Machine:  0.9777777777777777\n"
          ]
        }
      ]
    },
    {
      "cell_type": "markdown",
      "source": [
        "**2**.   **Poly**\n",
        "\n"
      ],
      "metadata": {
        "id": "YIm1EFPM5iuJ"
      }
    },
    {
      "cell_type": "code",
      "source": [
        "from sklearn.svm import SVC\n",
        "from sklearn import metrics\n",
        "\n",
        "svm = SVC(\n",
        "    kernel = 'poly',\n",
        "    C = 1,\n",
        "    gamma = 0.01\n",
        ")\n",
        "\n",
        "svm.fit(x_train, y_train)\n",
        "y_pred = svm.predict(x_test)\n",
        "score = metrics.accuracy_score(y_test, y_pred)\n",
        "print(\"Akurasi dengan menggunakan Support Vector Machine: \", score)"
      ],
      "metadata": {
        "colab": {
          "base_uri": "https://localhost:8080/"
        },
        "id": "SlrqcXns5Y0G",
        "outputId": "4bcc9564-a7d6-4c6c-deca-426069ced605"
      },
      "execution_count": 493,
      "outputs": [
        {
          "output_type": "stream",
          "name": "stdout",
          "text": [
            "Akurasi dengan menggunakan Support Vector Machine:  0.8888888888888888\n"
          ]
        }
      ]
    },
    {
      "cell_type": "markdown",
      "source": [
        "**3**.   **rbf**\n",
        "\n"
      ],
      "metadata": {
        "id": "ydb9opNl5mLg"
      }
    },
    {
      "cell_type": "code",
      "source": [
        "from sklearn.svm import SVC\n",
        "from sklearn import metrics\n",
        "\n",
        "svm = SVC(\n",
        "    kernel = 'rbf',\n",
        "    C = 1,\n",
        "    gamma = 0.01\n",
        ")\n",
        "\n",
        "svm.fit(x_train, y_train)\n",
        "y_pred = svm.predict(x_test)\n",
        "score = metrics.accuracy_score(y_test, y_pred)\n",
        "print(\"Akurasi dengan menggunakan Support Vector Machine: \", score)"
      ],
      "metadata": {
        "colab": {
          "base_uri": "https://localhost:8080/"
        },
        "id": "1ybwP_8y5dSC",
        "outputId": "4d610258-7595-4fb0-bda3-24d92f1fcd1f"
      },
      "execution_count": 494,
      "outputs": [
        {
          "output_type": "stream",
          "name": "stdout",
          "text": [
            "Akurasi dengan menggunakan Support Vector Machine:  0.9555555555555556\n"
          ]
        }
      ]
    },
    {
      "cell_type": "markdown",
      "source": [
        "#PENERAPAN ADABOOST ALGORITHM"
      ],
      "metadata": {
        "id": "ptRKduxf-LKF"
      }
    },
    {
      "cell_type": "code",
      "source": [
        "#Import AdaBoost Classifier dari sklearn\n",
        "from sklearn.ensemble import  AdaBoostClassifier\n",
        "\n",
        "#Import metric untuk memeriksa akurasi\n",
        "from sklearn import metrics\n",
        "\n",
        "ab = AdaBoostClassifier(\n",
        "    n_estimators = 50,\n",
        "    learning_rate = 1\n",
        ")\n",
        "\n",
        "ab.fit(x_train, y_train)\n",
        "y_pred = ab.predict(x_test)\n",
        "score = metrics.accuracy_score(y_test, y_pred)\n",
        "print(\"Akurasi dengan menggunakan AdaBoost: \", score)"
      ],
      "metadata": {
        "colab": {
          "base_uri": "https://localhost:8080/"
        },
        "id": "AVtxqdiQ-QsM",
        "outputId": "be33a74a-9489-45e6-c8bb-5fb1784397b7"
      },
      "execution_count": 495,
      "outputs": [
        {
          "output_type": "stream",
          "name": "stdout",
          "text": [
            "Akurasi dengan menggunakan AdaBoost:  0.9777777777777777\n"
          ]
        }
      ]
    },
    {
      "cell_type": "markdown",
      "source": [
        "#ANALISIS PERBANDINGAN"
      ],
      "metadata": {
        "id": "MA6SnkKz7dBu"
      }
    },
    {
      "cell_type": "code",
      "source": [
        "# Import libraries yang dibutuhkan\n",
        "from sklearn.neighbors import KNeighborsClassifier\n",
        "from sklearn.tree import DecisionTreeClassifier\n",
        "from sklearn import naive_bayes\n",
        "from sklearn.svm import SVC\n",
        "from sklearn.ensemble import AdaBoostClassifier\n",
        "from sklearn import metrics\n",
        "\n",
        "# Fit and evaluate KNN model\n",
        "knn = KNeighborsClassifier()\n",
        "knn.fit(x_train, y_train)\n",
        "y_pred_knn = knn.predict(x_test)\n",
        "score_knn = metrics.accuracy_score(y_test, y_pred_knn)\n",
        "print(\"Akurasi dengan menggunakan Nearest Neighbor: \", score_knn)\n",
        "\n",
        "# Fit and evaluate Decision Tree model\n",
        "dt = DecisionTreeClassifier(max_depth=None, min_samples_split=2)\n",
        "dt.fit(x_train, y_train)\n",
        "y_pred_dt = dt.predict(x_test)\n",
        "score_dt = metrics.accuracy_score(y_test, y_pred_dt)\n",
        "print(\"Akurasi dengan menggunakan Decision Tree: \", score_dt)\n",
        "\n",
        "# Fit and evaluate Naive Bayes model\n",
        "nb = naive_bayes.BernoulliNB()\n",
        "nb.fit(x_train, y_train)\n",
        "y_pred_nb = nb.predict(x_test)\n",
        "score_nb = metrics.accuracy_score(y_test, y_pred_nb)\n",
        "print(\"Akurasi dengan menggunakan Naive Bayes: \", score_nb)\n",
        "\n",
        "# Fit and evaluate SVM model with linear kernel\n",
        "svm_linear = SVC(kernel='linear', C=1)\n",
        "svm_linear.fit(x_train, y_train)\n",
        "y_pred_svm_linear = svm_linear.predict(x_test)\n",
        "score_svm_linear = metrics.accuracy_score(y_test, y_pred_svm_linear)\n",
        "print(\"Akurasi dengan menggunakan SVM Linear: \", score_svm_linear)\n",
        "\n",
        "# Fit and evaluate SVM model with polynomial kernel\n",
        "svm_poly = SVC(kernel='poly', C=1, gamma=0.01, degree=2)\n",
        "svm_poly.fit(x_train, y_train)\n",
        "y_pred_svm_poly = svm_poly.predict(x_test)\n",
        "score_svm_poly = metrics.accuracy_score(y_test, y_pred_svm_poly)\n",
        "print(\"Akurasi dengan menggunakan SVM Polynomial: \", score_svm_poly)\n",
        "\n",
        "# Fit and evaluate SVM model with RBF kernel\n",
        "svm_rbf = SVC(kernel='rbf', C=1, gamma=0.01)\n",
        "svm_rbf.fit(x_train, y_train)\n",
        "y_pred_svm_rbf = svm_rbf.predict(x_test)\n",
        "score_svm_rbf = metrics.accuracy_score(y_test, y_pred_svm_rbf)\n",
        "print(\"Akurasi dengan menggunakan SVM RBF: \", score_svm_rbf)\n",
        "\n",
        "# Fit and evaluate AdaBoost model\n",
        "ab = AdaBoostClassifier(n_estimators=50, learning_rate=1)\n",
        "ab.fit(x_train, y_train)\n",
        "y_pred_ab = ab.predict(x_test)\n",
        "score_ab = metrics.accuracy_score(y_test, y_pred_ab)\n",
        "print(\"Akurasi dengan menggunakan AdaBoost: \", score_ab)\n",
        "\n",
        "# Display comparison of all model performances\n",
        "print(\"\\nPerbandingan Akurasi:\")\n",
        "print(\"Nearest Neighbor: \", score_knn)\n",
        "print(\"Decision Tree: \", score_dt)\n",
        "print(\"Naive Bayes: \", score_nb)\n",
        "print(\"SVM Linear: \", score_svm_linear)\n",
        "print(\"SVM Polynomial: \", score_svm_poly)\n",
        "print(\"SVM RBF: \", score_svm_rbf)\n",
        "print(\"AdaBoost: \", score_ab)"
      ],
      "metadata": {
        "colab": {
          "base_uri": "https://localhost:8080/"
        },
        "id": "iGChcvrd-HFi",
        "outputId": "e05405b4-ddee-4e64-a48f-5b5c33e65e33"
      },
      "execution_count": 496,
      "outputs": [
        {
          "output_type": "stream",
          "name": "stdout",
          "text": [
            "Akurasi dengan menggunakan Nearest Neighbor:  0.9555555555555556\n",
            "Akurasi dengan menggunakan Decision Tree:  0.9555555555555556\n",
            "Akurasi dengan menggunakan Naive Bayes:  0.24444444444444444\n",
            "Akurasi dengan menggunakan SVM Linear:  0.9777777777777777\n",
            "Akurasi dengan menggunakan SVM Polynomial:  0.9333333333333333\n",
            "Akurasi dengan menggunakan SVM RBF:  0.9555555555555556\n",
            "Akurasi dengan menggunakan AdaBoost:  0.9777777777777777\n",
            "\n",
            "Perbandingan Akurasi:\n",
            "Nearest Neighbor:  0.9555555555555556\n",
            "Decision Tree:  0.9555555555555556\n",
            "Naive Bayes:  0.24444444444444444\n",
            "SVM Linear:  0.9777777777777777\n",
            "SVM Polynomial:  0.9333333333333333\n",
            "SVM RBF:  0.9555555555555556\n",
            "AdaBoost:  0.9777777777777777\n"
          ]
        }
      ]
    },
    {
      "cell_type": "markdown",
      "source": [
        "**Dari hasil perbandingan akurasi, terlihat bahwa setiap model memiliki performa yang bervariasi. Model AdaBoost memberikan akurasi yang lebih baik dibandingkan dengan model-model lain seperti KNN, Decision Tree, Naive Bayes, dan SVM. Hal ini menunjukkan bahwa ensemble method seperti AdaBoost lebih efektif dalam meningkatkan performa klasifikasi dengan menggabungkan kekuatan beberapa model sederhana. Namun, model SVM Linear juga menunjukkan performa yang baik, terutama dalam menangani data. Secara keseluruhan, pemilihan model terbaik sangat bergantung pada karakteristik spesifik dari dataset yang digunakan.**"
      ],
      "metadata": {
        "id": "hmQhPI387uDI"
      }
    }
  ]
}